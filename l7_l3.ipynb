{
 "cells": [
  {
   "cell_type": "markdown",
   "id": "f8711142-e508-4cc8-8906-4415834af044",
   "metadata": {},
   "source": [
    "# 1. Peridically fetch traffic trends and attack spikes from clodfare and/or IPS from abuse IPDP\n",
    "# 2. Classify IPS with high DDos confidence score using machine learning\n",
    "# 3, Remote IPs to coordinate and show them in fromtend globe"
   ]
  },
  {
   "cell_type": "code",
   "execution_count": 69,
   "id": "a39c415b-5600-455e-8afa-f58cd87b7ae6",
   "metadata": {},
   "outputs": [],
   "source": [
    "import pandas as pd\n",
    "import numpy as np\n",
    "import requests\n",
    "import matplotlib.pyplot as plt\n",
    "import seaborn as sns"
   ]
  },
  {
   "cell_type": "code",
   "execution_count": 2,
   "id": "f9ba9ffa-80c0-476d-92d3-bd3c5796d4b3",
   "metadata": {},
   "outputs": [],
   "source": [
    "import requests \n",
    "\n",
    "API_TOKEN = \"kvVDk6bPlZ8WE305dH5EqtcMTG8tf0RkCvzJIeqL\"\n",
    "url=\"https://api.cloudflare.com/client/v4/user/tokens/verify\"\n",
    "\n",
    "headers={\n",
    "    \"Authorization\": f\"Bearer {API_TOKEN}\"\n",
    "}\n",
    "\n",
    "response=requests.get(url=url,headers=headers)\n",
    "# print(response.status_code)\n",
    "# print(response.json())"
   ]
  },
  {
   "cell_type": "code",
   "execution_count": null,
   "id": "42db21f2-3468-4da2-9279-f80fe917e6d2",
   "metadata": {},
   "outputs": [],
   "source": []
  },
  {
   "cell_type": "code",
   "execution_count": 3,
   "id": "4e2c74d0-9e42-4404-a594-e7084f0a6dd8",
   "metadata": {},
   "outputs": [],
   "source": [
    "API_TOKEN = \"kvVDk6bPlZ8WE305dH5EqtcMTG8tf0RkCvzJIeqL\"\n",
    "HEADERS = {\"Authorization\": f\"Bearer {API_TOKEN}\"}\n",
    "\n",
    "PARAMS = {\n",
    "    \"aggInterval\": \"1h\",\n",
    "    \"dateRange\": \"1d\",\n",
    "    \"format\": \"json\"\n",
    "}\n",
    "\n",
    "def fetch_data(url):\n",
    "    response = requests.get(url, headers=HEADERS, params=PARAMS)\n",
    "    if response.status_code == 200:\n",
    "        return response.json().get(\"result\", {})\n",
    "    else:\n",
    "        print(f\"Error {response.status_code}: {response.text}\")\n",
    "        return []\n",
    "\n",
    "# Layer 3 URL\n",
    "vector_url = \"https://api.cloudflare.com/client/v4/radar/attacks/layer3/timeseries_groups/vector\"\n",
    "ip_url=\"https://api.cloudflare.com/client/v4/radar/attacks/layer3/timeseries_groups/ip_version\"\n",
    "protocol_url=\"https://api.cloudflare.com/client/v4/radar/attacks/layer3/timeseries_groups/protocol\"\n",
    "bitrate_url=\"https://api.cloudflare.com/client/v4/radar/attacks/layer3/timeseries_groups/bitrate\"\n",
    "duration_url=\"https://api.cloudflare.com/client/v4/radar/attacks/layer3/timeseries_groups/duration\"\n",
    "\n",
    "vector_data = fetch_data(vector_url)\n",
    "ip_data=fetch_data(ip_url)\n",
    "protocol_data=fetch_data(protocol_url)\n",
    "bitrate_data=fetch_data(bitrate_url)\n",
    "duration_data=fetch_data(duration_url)\n",
    "\n",
    "\n",
    "df_vector = pd.DataFrame(vector_data)\n",
    "df_ip = pd.DataFrame(ip_data)\n",
    "df_protocol = pd.DataFrame(protocol_data)\n",
    "df_bitrate = pd.DataFrame(bitrate_data)\n",
    "df_duration = pd.DataFrame(duration_data)\n"
   ]
  },
  {
   "cell_type": "code",
   "execution_count": 26,
   "id": "c20750ed-5971-4948-a43e-22f60ec4c9ce",
   "metadata": {},
   "outputs": [],
   "source": [
    "to_melt=[vector_data,ip_data,protocol_data,bitrate_data,duration_data]"
   ]
  },
  {
   "cell_type": "code",
   "execution_count": null,
   "id": "482a674e-6086-43ae-8b6e-6e131475acda",
   "metadata": {},
   "outputs": [],
   "source": []
  },
  {
   "cell_type": "code",
   "execution_count": null,
   "id": "3a7f2289-5700-459a-a5c0-5248e6fea09b",
   "metadata": {},
   "outputs": [],
   "source": []
  },
  {
   "cell_type": "code",
   "execution_count": null,
   "id": "8e88d8e5-2f25-44b3-92e5-c8663f5f08e6",
   "metadata": {},
   "outputs": [],
   "source": []
  },
  {
   "cell_type": "code",
   "execution_count": null,
   "id": "41fd6d47-ddc0-4d81-a780-09f616a2632a",
   "metadata": {},
   "outputs": [],
   "source": []
  },
  {
   "cell_type": "code",
   "execution_count": null,
   "id": "1dd82eea-3da0-4ed6-a266-a84610324dda",
   "metadata": {},
   "outputs": [],
   "source": []
  },
  {
   "cell_type": "code",
   "execution_count": 37,
   "id": "26a4dbfa-a85d-4c42-b99f-3668cb0d9159",
   "metadata": {},
   "outputs": [],
   "source": [
    "data=vector_data[\"serie_0\"]\n",
    "df=pd.DataFrame(data)\n",
    "df_vector=df.melt(\n",
    "    id_vars=[\"timestamps\"],\n",
    "    var_name=\"attack_type\",\n",
    "    value_name=\"value\"\n",
    ")"
   ]
  },
  {
   "cell_type": "code",
   "execution_count": null,
   "id": "492a3453-5b86-4369-aa0d-586043cf58ea",
   "metadata": {},
   "outputs": [],
   "source": []
  },
  {
   "cell_type": "code",
   "execution_count": 38,
   "id": "ac692732-0f00-4ac7-8560-747b81f73ed3",
   "metadata": {},
   "outputs": [],
   "source": [
    "data=ip_data[\"serie_0\"]\n",
    "df=pd.DataFrame(data)\n",
    "df_ip=df.melt(\n",
    "    id_vars=[\"timestamps\"],\n",
    "    var_name=\"version\"\n",
    ")"
   ]
  },
  {
   "cell_type": "code",
   "execution_count": null,
   "id": "cb5aed36-a53f-418a-bc92-94a4d8e10f99",
   "metadata": {},
   "outputs": [],
   "source": []
  },
  {
   "cell_type": "code",
   "execution_count": 53,
   "id": "de3e184c-05a1-4f44-b15b-c6eb69e89e97",
   "metadata": {},
   "outputs": [],
   "source": [
    "data=protocol_data[\"serie_0\"]\n",
    "df=pd.DataFrame(data)\n",
    "df_protocol=df.melt(\n",
    "    id_vars=[\"timestamps\"],\n",
    "    var_name=\"protocol\"\n",
    ")"
   ]
  },
  {
   "cell_type": "code",
   "execution_count": null,
   "id": "0c1a501d-a7c5-4ef7-9fcc-a6b780414ed6",
   "metadata": {},
   "outputs": [],
   "source": []
  },
  {
   "cell_type": "code",
   "execution_count": 52,
   "id": "00cac270-d649-44a3-94f7-d9f742d25b7c",
   "metadata": {},
   "outputs": [],
   "source": [
    "data=bitrate_data[\"serie_0\"]\n",
    "df=pd.DataFrame(data)\n",
    "df_bitrate=df.melt(\n",
    "    id_vars=[\"timestamps\"],\n",
    "    var_name=\"bitrate\"\n",
    ")\n"
   ]
  },
  {
   "cell_type": "code",
   "execution_count": null,
   "id": "bd259512-7a34-48ed-a113-5b9d2859dc3d",
   "metadata": {},
   "outputs": [],
   "source": []
  },
  {
   "cell_type": "code",
   "execution_count": 48,
   "id": "a76b604c-708f-4da4-acd7-dec03b8c14d2",
   "metadata": {},
   "outputs": [],
   "source": [
    "data=duration_data[\"serie_0\"]\n",
    "df=pd.DataFrame(data)\n",
    "df_duration=df.melt(\n",
    "    id_vars=[\"timestamps\"],\n",
    "    var_name=\"duration\"\n",
    ")\n"
   ]
  },
  {
   "cell_type": "code",
   "execution_count": 79,
   "id": "d6134606-f029-4dc3-9ea5-c45962cbabbd",
   "metadata": {},
   "outputs": [
    {
     "data": {
      "text/html": [
       "<div>\n",
       "<style scoped>\n",
       "    .dataframe tbody tr th:only-of-type {\n",
       "        vertical-align: middle;\n",
       "    }\n",
       "\n",
       "    .dataframe tbody tr th {\n",
       "        vertical-align: top;\n",
       "    }\n",
       "\n",
       "    .dataframe thead th {\n",
       "        text-align: right;\n",
       "    }\n",
       "</style>\n",
       "<table border=\"1\" class=\"dataframe\">\n",
       "  <thead>\n",
       "    <tr style=\"text-align: right;\">\n",
       "      <th></th>\n",
       "      <th>timestamps</th>\n",
       "      <th>protocol</th>\n",
       "      <th>value</th>\n",
       "    </tr>\n",
       "  </thead>\n",
       "  <tbody>\n",
       "    <tr>\n",
       "      <th>0</th>\n",
       "      <td>2025-08-15 03:00:00+00:00</td>\n",
       "      <td>UDP</td>\n",
       "      <td>70.20109</td>\n",
       "    </tr>\n",
       "    <tr>\n",
       "      <th>1</th>\n",
       "      <td>2025-08-15 04:00:00+00:00</td>\n",
       "      <td>UDP</td>\n",
       "      <td>77.16712</td>\n",
       "    </tr>\n",
       "    <tr>\n",
       "      <th>2</th>\n",
       "      <td>2025-08-15 05:00:00+00:00</td>\n",
       "      <td>UDP</td>\n",
       "      <td>75.399461</td>\n",
       "    </tr>\n",
       "    <tr>\n",
       "      <th>3</th>\n",
       "      <td>2025-08-15 06:00:00+00:00</td>\n",
       "      <td>UDP</td>\n",
       "      <td>79.927863</td>\n",
       "    </tr>\n",
       "    <tr>\n",
       "      <th>4</th>\n",
       "      <td>2025-08-15 07:00:00+00:00</td>\n",
       "      <td>UDP</td>\n",
       "      <td>81.449619</td>\n",
       "    </tr>\n",
       "    <tr>\n",
       "      <th>...</th>\n",
       "      <td>...</td>\n",
       "      <td>...</td>\n",
       "      <td>...</td>\n",
       "    </tr>\n",
       "    <tr>\n",
       "      <th>91</th>\n",
       "      <td>2025-08-15 22:00:00+00:00</td>\n",
       "      <td>GRE</td>\n",
       "      <td>7.844326</td>\n",
       "    </tr>\n",
       "    <tr>\n",
       "      <th>92</th>\n",
       "      <td>2025-08-15 23:00:00+00:00</td>\n",
       "      <td>GRE</td>\n",
       "      <td>0.0</td>\n",
       "    </tr>\n",
       "    <tr>\n",
       "      <th>93</th>\n",
       "      <td>2025-08-16 00:00:00+00:00</td>\n",
       "      <td>GRE</td>\n",
       "      <td>0.0</td>\n",
       "    </tr>\n",
       "    <tr>\n",
       "      <th>94</th>\n",
       "      <td>2025-08-16 01:00:00+00:00</td>\n",
       "      <td>GRE</td>\n",
       "      <td>0.0</td>\n",
       "    </tr>\n",
       "    <tr>\n",
       "      <th>95</th>\n",
       "      <td>2025-08-16 02:00:00+00:00</td>\n",
       "      <td>GRE</td>\n",
       "      <td>0.0</td>\n",
       "    </tr>\n",
       "  </tbody>\n",
       "</table>\n",
       "<p>96 rows × 3 columns</p>\n",
       "</div>"
      ],
      "text/plain": [
       "                  timestamps protocol      value\n",
       "0  2025-08-15 03:00:00+00:00      UDP   70.20109\n",
       "1  2025-08-15 04:00:00+00:00      UDP   77.16712\n",
       "2  2025-08-15 05:00:00+00:00      UDP  75.399461\n",
       "3  2025-08-15 06:00:00+00:00      UDP  79.927863\n",
       "4  2025-08-15 07:00:00+00:00      UDP  81.449619\n",
       "..                       ...      ...        ...\n",
       "91 2025-08-15 22:00:00+00:00      GRE   7.844326\n",
       "92 2025-08-15 23:00:00+00:00      GRE        0.0\n",
       "93 2025-08-16 00:00:00+00:00      GRE        0.0\n",
       "94 2025-08-16 01:00:00+00:00      GRE        0.0\n",
       "95 2025-08-16 02:00:00+00:00      GRE        0.0\n",
       "\n",
       "[96 rows x 3 columns]"
      ]
     },
     "execution_count": 79,
     "metadata": {},
     "output_type": "execute_result"
    }
   ],
   "source": [
    "df_duration\n",
    "df_bitrate\n",
    "df_protocol\n",
    "# df_ip\n",
    "# df_vector"
   ]
  },
  {
   "cell_type": "code",
   "execution_count": 78,
   "id": "6eedaead-52df-49a9-a9c8-2b2a163341c5",
   "metadata": {},
   "outputs": [],
   "source": [
    "for df in [df_duration, df_bitrate, df_protocol, df_ip, df_vector]:\n",
    "    df['timestamps'] = pd.to_datetime(df['timestamps'], errors='coerce')"
   ]
  },
  {
   "cell_type": "code",
   "execution_count": null,
   "id": "0771354b-d116-4e3f-b075-c9c863955f06",
   "metadata": {},
   "outputs": [],
   "source": [
    "df_protocol"
   ]
  }
 ],
 "metadata": {
  "kernelspec": {
   "display_name": "Python 3 (ipykernel)",
   "language": "python",
   "name": "python3"
  },
  "language_info": {
   "codemirror_mode": {
    "name": "ipython",
    "version": 3
   },
   "file_extension": ".py",
   "mimetype": "text/x-python",
   "name": "python",
   "nbconvert_exporter": "python",
   "pygments_lexer": "ipython3",
   "version": "3.13.5"
  }
 },
 "nbformat": 4,
 "nbformat_minor": 5
}
