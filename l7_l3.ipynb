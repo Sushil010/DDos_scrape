{
 "cells": [
  {
   "cell_type": "code",
   "execution_count": 1,
   "id": "a39c415b-5600-455e-8afa-f58cd87b7ae6",
   "metadata": {},
   "outputs": [],
   "source": [
    "import pandas as pd\n",
    "import numpy as np\n",
    "import requests"
   ]
  },
  {
   "cell_type": "code",
   "execution_count": 2,
   "id": "f9ba9ffa-80c0-476d-92d3-bd3c5796d4b3",
   "metadata": {},
   "outputs": [],
   "source": [
    "import requests \n",
    "\n",
    "API_TOKEN = \"kvVDk6bPlZ8WE305dH5EqtcMTG8tf0RkCvzJIeqL\"\n",
    "url=\"https://api.cloudflare.com/client/v4/user/tokens/verify\"\n",
    "\n",
    "headers={\n",
    "    \"Authorization\": f\"Bearer {API_TOKEN}\"\n",
    "}\n",
    "\n",
    "response=requests.get(url=url,headers=headers)\n",
    "# print(response.status_code)\n",
    "# print(response.json())"
   ]
  },
  {
   "cell_type": "code",
   "execution_count": null,
   "id": "42db21f2-3468-4da2-9279-f80fe917e6d2",
   "metadata": {},
   "outputs": [],
   "source": []
  },
  {
   "cell_type": "code",
   "execution_count": 13,
   "id": "4e2c74d0-9e42-4404-a594-e7084f0a6dd8",
   "metadata": {},
   "outputs": [
    {
     "name": "stdout",
     "output_type": "stream",
     "text": [
      "                                                             serie_0  \\\n",
      "timestamps         [2025-08-13T16:00:00Z, 2025-08-13T17:00:00Z, 2...   \n",
      "Mirai (UDP) Flood  [52.863648, 46.716405, 42.540235, 15.25418, 47...   \n",
      "UDP Flood          [17.354526, 13.835471, 18.902606, 37.581056, 2...   \n",
      "DNS Amplification  [10.031069, 20.732182, 10.920664, 7.052825, 14...   \n",
      "ACK Flood          [9.92975, 9.384709, 9.448793, 3.02514, 9.63970...   \n",
      "other              [3.428273, 3.516691, 10.955197, 3.195222, 2.91...   \n",
      "SYN Flood          [2.087541, 3.240775, 4.621336, 6.462136, 2.686...   \n",
      "SSDP Flood         [1.958087, 0.945255, 0.849903, 3.207142, 0.885...   \n",
      "TCP Flood          [1.38871, 1.012117, 0.949709, 23.409533, 0.669...   \n",
      "DNS Flood          [0.948892, 0.607762, 0.668518, 0.81043, 0.8530...   \n",
      "ICMP Flood         [0.009506, 0.008633, 0.143038, 0.002335, 0.009...   \n",
      "dateRange                                                        NaN   \n",
      "confidenceInfo                                                   NaN   \n",
      "aggInterval                                                      NaN   \n",
      "normalization                                                    NaN   \n",
      "lastUpdated                                                      NaN   \n",
      "units                                                            NaN   \n",
      "\n",
      "                                                                meta  \n",
      "timestamps                                                       NaN  \n",
      "Mirai (UDP) Flood                                                NaN  \n",
      "UDP Flood                                                        NaN  \n",
      "DNS Amplification                                                NaN  \n",
      "ACK Flood                                                        NaN  \n",
      "other                                                            NaN  \n",
      "SYN Flood                                                        NaN  \n",
      "SSDP Flood                                                       NaN  \n",
      "TCP Flood                                                        NaN  \n",
      "DNS Flood                                                        NaN  \n",
      "ICMP Flood                                                       NaN  \n",
      "dateRange          [{'startTime': '2025-08-13T16:00:00Z', 'endTim...  \n",
      "confidenceInfo                    {'level': None, 'annotations': []}  \n",
      "aggInterval                                                 ONE_HOUR  \n",
      "normalization                                             PERCENTAGE  \n",
      "lastUpdated                                     2025-08-14T16:15:00Z  \n",
      "units                              [{'name': '*', 'value': 'bytes'}]  \n"
     ]
    }
   ],
   "source": [
    "API_TOKEN = \"kvVDk6bPlZ8WE305dH5EqtcMTG8tf0RkCvzJIeqL\"\n",
    "HEADERS = {\"Authorization\": f\"Bearer {API_TOKEN}\"}\n",
    "\n",
    "PARAMS = {\n",
    "    \"aggInterval\": \"1h\",\n",
    "    \"dateRange\": \"1d\",\n",
    "    \"format\": \"json\"\n",
    "}\n",
    "\n",
    "def fetch_data(url):\n",
    "    response = requests.get(url, headers=HEADERS, params=PARAMS)\n",
    "    if response.status_code == 200:\n",
    "        return response.json().get(\"result\", {})\n",
    "    else:\n",
    "        print(f\"Error {response.status_code}: {response.text}\")\n",
    "        return []\n",
    "\n",
    "# Layer 3 URL\n",
    "vector_url = \"https://api.cloudflare.com/client/v4/radar/attacks/layer3/timeseries_groups/vector\"\n",
    "\n",
    "# Fetch L3 Data\n",
    "vector_data = fetch_data(vector_url)\n",
    "\n",
    "# Convert to DataFrame\n",
    "df_vector = pd.DataFrame(vector_data)\n",
    "print(df_vector)\n"
   ]
  },
  {
   "cell_type": "code",
   "execution_count": 5,
   "id": "de3e184c-05a1-4f44-b15b-c6eb69e89e97",
   "metadata": {},
   "outputs": [],
   "source": [
    "l3_data = fetch_data(l3_url)\n",
    "df_l3 = pd.DataFrame(l3_data)\n"
   ]
  },
  {
   "cell_type": "code",
   "execution_count": 9,
   "id": "0c1a501d-a7c5-4ef7-9fcc-a6b780414ed6",
   "metadata": {},
   "outputs": [
    {
     "data": {
      "text/plain": [
       "[]"
      ]
     },
     "execution_count": 9,
     "metadata": {},
     "output_type": "execute_result"
    }
   ],
   "source": [
    "l3_data"
   ]
  },
  {
   "cell_type": "code",
   "execution_count": null,
   "id": "00cac270-d649-44a3-94f7-d9f742d25b7c",
   "metadata": {},
   "outputs": [],
   "source": []
  },
  {
   "cell_type": "code",
   "execution_count": null,
   "id": "bd259512-7a34-48ed-a113-5b9d2859dc3d",
   "metadata": {},
   "outputs": [],
   "source": []
  }
 ],
 "metadata": {
  "kernelspec": {
   "display_name": "Python 3 (ipykernel)",
   "language": "python",
   "name": "python3"
  },
  "language_info": {
   "codemirror_mode": {
    "name": "ipython",
    "version": 3
   },
   "file_extension": ".py",
   "mimetype": "text/x-python",
   "name": "python",
   "nbconvert_exporter": "python",
   "pygments_lexer": "ipython3",
   "version": "3.13.5"
  }
 },
 "nbformat": 4,
 "nbformat_minor": 5
}
