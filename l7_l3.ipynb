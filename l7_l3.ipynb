{
 "cells": [
  {
   "cell_type": "code",
   "execution_count": 1,
   "id": "a39c415b-5600-455e-8afa-f58cd87b7ae6",
   "metadata": {},
   "outputs": [],
   "source": [
    "import pandas as pd\n",
    "import numpy as np\n",
    "import requests"
   ]
  },
  {
   "cell_type": "code",
   "execution_count": 3,
   "id": "f9ba9ffa-80c0-476d-92d3-bd3c5796d4b3",
   "metadata": {},
   "outputs": [],
   "source": [
    "import requests \n",
    "\n",
    "API_TOKEN = \"kvVDk6bPlZ8WE305dH5EqtcMTG8tf0RkCvzJIeqL\"\n",
    "url=\"https://api.cloudflare.com/client/v4/user/tokens/verify\"\n",
    "\n",
    "headers={\n",
    "    \"Authorization\": f\"Bearer {API_TOKEN}\"\n",
    "}\n",
    "\n",
    "response=requests.get(url=url,headers=headers)\n",
    "# print(response.status_code)\n",
    "# print(response.json())"
   ]
  },
  {
   "cell_type": "code",
   "execution_count": 6,
   "id": "42db21f2-3468-4da2-9279-f80fe917e6d2",
   "metadata": {},
   "outputs": [],
   "source": [
    "l3_url=\"https://api.cloudflare.com/client/v4/radar/attacks/layer3/timeseries_groups\"\n",
    "PARAMS = {\n",
    "    \"aggInterval\": \"1h\",\n",
    "    \"dateRange\": \"1d\",\n",
    "    \"format\": \"json\"\n",
    "}"
   ]
  },
  {
   "cell_type": "code",
   "execution_count": 9,
   "id": "4e2c74d0-9e42-4404-a594-e7084f0a6dd8",
   "metadata": {},
   "outputs": [],
   "source": [
    "def fetch_data(url):\n",
    "    response = requests.get(url, headers=headers, params=PARAMS)\n",
    "    if response.status_code == 200:\n",
    "        return response.json().get(\"result\", {}).get(\"timeseries\", [])\n",
    "    else:\n",
    "        print(f\"Error {response.status_code}: {response.text}\")\n",
    "        return []"
   ]
  },
  {
   "cell_type": "code",
   "execution_count": 10,
   "id": "de3e184c-05a1-4f44-b15b-c6eb69e89e97",
   "metadata": {},
   "outputs": [
    {
     "name": "stdout",
     "output_type": "stream",
     "text": [
      "Error 400: {\"success\":false,\"errors\":[{\"code\":7000,\"message\":\"No route for that URI\"}],\"messages\":[],\"result\":null}\n"
     ]
    }
   ],
   "source": [
    "l3_data = fetch_data(l3_url)\n",
    "df_l3 = pd.DataFrame(l3_data)\n"
   ]
  },
  {
   "cell_type": "code",
   "execution_count": 11,
   "id": "0c1a501d-a7c5-4ef7-9fcc-a6b780414ed6",
   "metadata": {},
   "outputs": [
    {
     "data": {
      "text/html": [
       "<div>\n",
       "<style scoped>\n",
       "    .dataframe tbody tr th:only-of-type {\n",
       "        vertical-align: middle;\n",
       "    }\n",
       "\n",
       "    .dataframe tbody tr th {\n",
       "        vertical-align: top;\n",
       "    }\n",
       "\n",
       "    .dataframe thead th {\n",
       "        text-align: right;\n",
       "    }\n",
       "</style>\n",
       "<table border=\"1\" class=\"dataframe\">\n",
       "  <thead>\n",
       "    <tr style=\"text-align: right;\">\n",
       "      <th></th>\n",
       "    </tr>\n",
       "  </thead>\n",
       "  <tbody>\n",
       "  </tbody>\n",
       "</table>\n",
       "</div>"
      ],
      "text/plain": [
       "Empty DataFrame\n",
       "Columns: []\n",
       "Index: []"
      ]
     },
     "execution_count": 11,
     "metadata": {},
     "output_type": "execute_result"
    }
   ],
   "source": [
    "df_l3"
   ]
  },
  {
   "cell_type": "code",
   "execution_count": null,
   "id": "00cac270-d649-44a3-94f7-d9f742d25b7c",
   "metadata": {},
   "outputs": [],
   "source": []
  }
 ],
 "metadata": {
  "kernelspec": {
   "display_name": "Python 3 (ipykernel)",
   "language": "python",
   "name": "python3"
  },
  "language_info": {
   "codemirror_mode": {
    "name": "ipython",
    "version": 3
   },
   "file_extension": ".py",
   "mimetype": "text/x-python",
   "name": "python",
   "nbconvert_exporter": "python",
   "pygments_lexer": "ipython3",
   "version": "3.13.5"
  }
 },
 "nbformat": 4,
 "nbformat_minor": 5
}
