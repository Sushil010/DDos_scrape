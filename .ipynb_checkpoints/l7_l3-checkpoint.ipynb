{
 "cells": [
  {
   "cell_type": "markdown",
   "id": "f8711142-e508-4cc8-8906-4415834af044",
   "metadata": {},
   "source": [
    "# 1. Peridically fetch traffic trends and attack spikes from clodfare and/or IPS from abuse IPDP\n",
    "# 2. Classify IPS with high DDos confidence score using machine learning\n",
    "# 3, Remote IPs to coordinate and show them in fromtend globe"
   ]
  },
  {
   "cell_type": "code",
   "execution_count": 1,
   "id": "a39c415b-5600-455e-8afa-f58cd87b7ae6",
   "metadata": {},
   "outputs": [],
   "source": [
    "import pandas as pd\n",
    "import numpy as np\n",
    "import requests\n",
    "import matplotlib.pyplot as plt\n",
    "import seaborn as sns"
   ]
  },
  {
   "cell_type": "code",
   "execution_count": 2,
   "id": "f9ba9ffa-80c0-476d-92d3-bd3c5796d4b3",
   "metadata": {},
   "outputs": [],
   "source": [
    "import requests \n",
    "\n",
    "API_TOKEN = \"kvVDk6bPlZ8WE305dH5EqtcMTG8tf0RkCvzJIeqL\"\n",
    "url=\"https://api.cloudflare.com/client/v4/user/tokens/verify\"\n",
    "\n",
    "headers={\n",
    "    \"Authorization\": f\"Bearer {API_TOKEN}\"\n",
    "}\n",
    "\n",
    "response=requests.get(url=url,headers=headers)\n",
    "# print(response.status_code)\n",
    "# print(response.json())"
   ]
  },
  {
   "cell_type": "code",
   "execution_count": null,
   "id": "42db21f2-3468-4da2-9279-f80fe917e6d2",
   "metadata": {},
   "outputs": [],
   "source": []
  },
  {
   "cell_type": "code",
   "execution_count": 3,
   "id": "4e2c74d0-9e42-4404-a594-e7084f0a6dd8",
   "metadata": {},
   "outputs": [],
   "source": [
    "API_TOKEN = \"kvVDk6bPlZ8WE305dH5EqtcMTG8tf0RkCvzJIeqL\"\n",
    "HEADERS = {\"Authorization\": f\"Bearer {API_TOKEN}\"}\n",
    "\n",
    "PARAMS = {\n",
    "    \"aggInterval\": \"1h\",\n",
    "    \"dateRange\": \"1d\",\n",
    "    \"format\": \"json\"\n",
    "}\n",
    "\n",
    "def fetch_data(url):\n",
    "    response = requests.get(url, headers=HEADERS, params=PARAMS)\n",
    "    if response.status_code == 200:\n",
    "        return response.json().get(\"result\", {})\n",
    "    else:\n",
    "        print(f\"Error {response.status_code}: {response.text}\")\n",
    "        return []\n",
    "\n",
    "# Layer 3 URL\n",
    "vector_url = \"https://api.cloudflare.com/client/v4/radar/attacks/layer3/timeseries_groups/vector\"\n",
    "ip_url=\"https://api.cloudflare.com/client/v4/radar/attacks/layer3/timeseries_groups/ip_version\"\n",
    "protocol_url=\"https://api.cloudflare.com/client/v4/radar/attacks/layer3/timeseries_groups/protocol\"\n",
    "bitrate_url=\"https://api.cloudflare.com/client/v4/radar/attacks/layer3/timeseries_groups/bitrate\"\n",
    "duration_url=\"https://api.cloudflare.com/client/v4/radar/attacks/layer3/timeseries_groups/duration\"\n",
    "\n",
    "vector_data = fetch_data(vector_url)\n",
    "ip_data=fetch_data(ip_url)\n",
    "protocol_data=fetch_data(protocol_url)\n",
    "bitrate_data=fetch_data(bitrate_url)\n",
    "duration_data=fetch_data(duration_url)\n",
    "\n",
    "\n",
    "df_vector = pd.DataFrame(vector_data)\n",
    "df_ip = pd.DataFrame(ip_data)\n",
    "df_protocol = pd.DataFrame(protocol_data)\n",
    "df_bitrate = pd.DataFrame(bitrate_data)\n",
    "df_duration = pd.DataFrame(duration_data)\n"
   ]
  },
  {
   "cell_type": "code",
   "execution_count": 4,
   "id": "c20750ed-5971-4948-a43e-22f60ec4c9ce",
   "metadata": {},
   "outputs": [],
   "source": [
    "to_melt=[vector_data,ip_data,protocol_data,bitrate_data,duration_data]"
   ]
  },
  {
   "cell_type": "code",
   "execution_count": 5,
   "id": "26a4dbfa-a85d-4c42-b99f-3668cb0d9159",
   "metadata": {},
   "outputs": [],
   "source": [
    "data=vector_data[\"serie_0\"]\n",
    "df=pd.DataFrame(data)\n",
    "df_vector=df.melt(\n",
    "    id_vars=[\"timestamps\"],\n",
    "    var_name=\"attack_type\",\n",
    "    value_name=\"value\"\n",
    ")"
   ]
  },
  {
   "cell_type": "code",
   "execution_count": null,
   "id": "492a3453-5b86-4369-aa0d-586043cf58ea",
   "metadata": {},
   "outputs": [],
   "source": []
  },
  {
   "cell_type": "code",
   "execution_count": 6,
   "id": "ac692732-0f00-4ac7-8560-747b81f73ed3",
   "metadata": {},
   "outputs": [],
   "source": [
    "data=ip_data[\"serie_0\"]\n",
    "df=pd.DataFrame(data)\n",
    "df_ip=df.melt(\n",
    "    id_vars=[\"timestamps\"],\n",
    "    var_name=\"version\"\n",
    ")"
   ]
  },
  {
   "cell_type": "code",
   "execution_count": null,
   "id": "cb5aed36-a53f-418a-bc92-94a4d8e10f99",
   "metadata": {},
   "outputs": [],
   "source": []
  },
  {
   "cell_type": "code",
   "execution_count": 7,
   "id": "de3e184c-05a1-4f44-b15b-c6eb69e89e97",
   "metadata": {},
   "outputs": [],
   "source": [
    "data=protocol_data[\"serie_0\"]\n",
    "df=pd.DataFrame(data)\n",
    "df_protocol=df.melt(\n",
    "    id_vars=[\"timestamps\"],\n",
    "    var_name=\"protocol\"\n",
    ")"
   ]
  },
  {
   "cell_type": "code",
   "execution_count": null,
   "id": "0c1a501d-a7c5-4ef7-9fcc-a6b780414ed6",
   "metadata": {},
   "outputs": [],
   "source": []
  },
  {
   "cell_type": "code",
   "execution_count": 8,
   "id": "00cac270-d649-44a3-94f7-d9f742d25b7c",
   "metadata": {},
   "outputs": [],
   "source": [
    "data=bitrate_data[\"serie_0\"]\n",
    "df=pd.DataFrame(data)\n",
    "df_bitrate=df.melt(\n",
    "    id_vars=[\"timestamps\"],\n",
    "    var_name=\"bitrate\"\n",
    ")\n"
   ]
  },
  {
   "cell_type": "code",
   "execution_count": null,
   "id": "bd259512-7a34-48ed-a113-5b9d2859dc3d",
   "metadata": {},
   "outputs": [],
   "source": []
  },
  {
   "cell_type": "code",
   "execution_count": 9,
   "id": "a76b604c-708f-4da4-acd7-dec03b8c14d2",
   "metadata": {},
   "outputs": [],
   "source": [
    "data=duration_data[\"serie_0\"]\n",
    "df=pd.DataFrame(data)\n",
    "df_duration=df.melt(\n",
    "    id_vars=[\"timestamps\"],\n",
    "    var_name=\"duration\"\n",
    ")\n"
   ]
  },
  {
   "cell_type": "code",
   "execution_count": 10,
   "id": "d6134606-f029-4dc3-9ea5-c45962cbabbd",
   "metadata": {},
   "outputs": [],
   "source": [
    "# df_duration\n",
    "# df_bitrate\n",
    "# df_protocol\n",
    "# # df_ip\n",
    "# # df_vector"
   ]
  },
  {
   "cell_type": "code",
   "execution_count": 11,
   "id": "6eedaead-52df-49a9-a9c8-2b2a163341c5",
   "metadata": {},
   "outputs": [],
   "source": [
    "# for df in [df_duration, df_bitrate, df_protocol, df_ip, df_vector]:\n",
    "#     df['timestamps'] = pd.to_datetime(df['timestamps'], errors='coerce')"
   ]
  },
  {
   "cell_type": "code",
   "execution_count": 12,
   "id": "4e00a71a-5584-43f1-8833-5ec6ffe2e72b",
   "metadata": {},
   "outputs": [],
   "source": [
    "for df in [df_vector, df_protocol, df_bitrate, df_duration, df_ip]:\n",
    "    df['timestamps'] = pd.to_datetime(df['timestamps'], utc=True)"
   ]
  },
  {
   "cell_type": "code",
   "execution_count": null,
   "id": "0771354b-d116-4e3f-b075-c9c863955f06",
   "metadata": {},
   "outputs": [],
   "source": []
  },
  {
   "cell_type": "code",
   "execution_count": null,
   "id": "3445a76d-dfc5-4fbd-827f-9678fcb2e52a",
   "metadata": {},
   "outputs": [],
   "source": []
  },
  {
   "cell_type": "code",
   "execution_count": null,
   "id": "c9513604-adbe-4ea5-85a5-807dc35c4e9f",
   "metadata": {},
   "outputs": [],
   "source": []
  }
 ],
 "metadata": {
  "kernelspec": {
   "display_name": "Python 3 (ipykernel)",
   "language": "python",
   "name": "python3"
  },
  "language_info": {
   "codemirror_mode": {
    "name": "ipython",
    "version": 3
   },
   "file_extension": ".py",
   "mimetype": "text/x-python",
   "name": "python",
   "nbconvert_exporter": "python",
   "pygments_lexer": "ipython3",
   "version": "3.13.5"
  }
 },
 "nbformat": 4,
 "nbformat_minor": 5
}
