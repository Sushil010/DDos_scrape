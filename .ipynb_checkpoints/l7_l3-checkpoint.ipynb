{
 "cells": [
  {
   "cell_type": "markdown",
   "id": "f8711142-e508-4cc8-8906-4415834af044",
   "metadata": {},
   "source": [
    "# 1. Peridically fetch traffic trends and attack spikes from clodfare and/or IPS from abuse IPDP\n",
    "# 2. Classify IPS with high DDos confidence score using machine learning\n",
    "# 3, Remote IPs to coordinate and show them in fromtend globe"
   ]
  },
  {
   "cell_type": "code",
   "execution_count": 1,
   "id": "a39c415b-5600-455e-8afa-f58cd87b7ae6",
   "metadata": {},
   "outputs": [],
   "source": [
    "import pandas as pd\n",
    "import numpy as np\n",
    "import requests\n",
    "import matplotlib.pyplot as plt\n",
    "import seaborn as sns\n",
    "import warnings \n",
    "warnings.filterwarnings('ignore')"
   ]
  },
  {
   "cell_type": "code",
   "execution_count": 2,
   "id": "f9ba9ffa-80c0-476d-92d3-bd3c5796d4b3",
   "metadata": {},
   "outputs": [],
   "source": [
    "import requests \n",
    "\n",
    "API_TOKEN = \"kvVDk6bPlZ8WE305dH5EqtcMTG8tf0RkCvzJIeqL\"\n",
    "url=\"https://api.cloudflare.com/client/v4/user/tokens/verify\"\n",
    "\n",
    "headers={\n",
    "    \"Authorization\": f\"Bearer {API_TOKEN}\"\n",
    "}\n",
    "\n",
    "response=requests.get(url=url,headers=headers)\n",
    "# print(response.status_code)\n",
    "# print(response.json())"
   ]
  },
  {
   "cell_type": "code",
   "execution_count": null,
   "id": "42db21f2-3468-4da2-9279-f80fe917e6d2",
   "metadata": {},
   "outputs": [],
   "source": []
  },
  {
   "cell_type": "code",
   "execution_count": 30,
   "id": "4e2c74d0-9e42-4404-a594-e7084f0a6dd8",
   "metadata": {},
   "outputs": [],
   "source": [
    "API_TOKEN = \"kvVDk6bPlZ8WE305dH5EqtcMTG8tf0RkCvzJIeqL\"\n",
    "HEADERS = {\"Authorization\": f\"Bearer {API_TOKEN}\"}\n",
    "\n",
    "PARAMS = {\n",
    "    \"aggInterval\": \"1h\",\n",
    "    \"dateRange\": \"4w\",\n",
    "    \"format\": \"json\"\n",
    "}\n",
    "\n",
    "def fetch_data(url):\n",
    "    response = requests.get(url, headers=HEADERS, params=PARAMS)\n",
    "    if response.status_code == 200:\n",
    "        return response.json().get(\"result\", {})\n",
    "    else:\n",
    "        print(f\"Error {response.status_code}: {response.text}\")\n",
    "        return []\n",
    "\n",
    "# Layer 3 URL\n",
    "vector_url = \"https://api.cloudflare.com/client/v4/radar/attacks/layer3/timeseries_groups/vector\"\n",
    "ip_url=\"https://api.cloudflare.com/client/v4/radar/attacks/layer3/timeseries_groups/ip_version\"\n",
    "protocol_url=\"https://api.cloudflare.com/client/v4/radar/attacks/layer3/timeseries_groups/protocol\"\n",
    "bitrate_url=\"https://api.cloudflare.com/client/v4/radar/attacks/layer3/timeseries_groups/bitrate\"\n",
    "duration_url=\"https://api.cloudflare.com/client/v4/radar/attacks/layer3/timeseries_groups/duration\"\n",
    "\n",
    "vector_data = fetch_data(vector_url)\n",
    "ip_data=fetch_data(ip_url)\n",
    "protocol_data=fetch_data(protocol_url)\n",
    "bitrate_data=fetch_data(bitrate_url)\n",
    "duration_data=fetch_data(duration_url)\n",
    "\n",
    "\n",
    "df_vector = pd.DataFrame(vector_data)\n",
    "df_ip = pd.DataFrame(ip_data)\n",
    "df_protocol = pd.DataFrame(protocol_data)\n",
    "df_bitrate = pd.DataFrame(bitrate_data)\n",
    "df_duration = pd.DataFrame(duration_data)\n"
   ]
  },
  {
   "cell_type": "code",
   "execution_count": 31,
   "id": "c20750ed-5971-4948-a43e-22f60ec4c9ce",
   "metadata": {},
   "outputs": [],
   "source": [
    "to_wide=[vector_data,ip_data,protocol_data,bitrate_data,duration_data]\n",
    "names=[\"vector_data\",\"ip_data\",\"protocol_data\",\"bitrate_data\",\"duration_data\"]"
   ]
  },
  {
   "cell_type": "code",
   "execution_count": 32,
   "id": "1e7251b4-b79b-423b-9238-0c8b07e60952",
   "metadata": {},
   "outputs": [],
   "source": [
    "dfs={}\n",
    "for name,data in zip(names,to_wide):\n",
    "    data=data[\"serie_0\"]\n",
    "    dfs[name]=pd.DataFrame(data)    \n",
    "\n",
    "df_vector=dfs[\"vector_data\"]\n",
    "df_duration=dfs[\"duration_data\"]\n",
    "df_ip=dfs[\"ip_data\"]\n",
    "df_protocol=dfs[\"protocol_data\"]\n",
    "df_bitrate=dfs[\"bitrate_data\"]"
   ]
  },
  {
   "cell_type": "code",
   "execution_count": 34,
   "id": "0006b47c-1568-400b-9898-9c59951fd3ae",
   "metadata": {},
   "outputs": [
    {
     "data": {
      "text/html": [
       "<div>\n",
       "<style scoped>\n",
       "    .dataframe tbody tr th:only-of-type {\n",
       "        vertical-align: middle;\n",
       "    }\n",
       "\n",
       "    .dataframe tbody tr th {\n",
       "        vertical-align: top;\n",
       "    }\n",
       "\n",
       "    .dataframe thead th {\n",
       "        text-align: right;\n",
       "    }\n",
       "</style>\n",
       "<table border=\"1\" class=\"dataframe\">\n",
       "  <thead>\n",
       "    <tr style=\"text-align: right;\">\n",
       "      <th></th>\n",
       "      <th>timestamps</th>\n",
       "      <th>IPv4</th>\n",
       "      <th>IPv6</th>\n",
       "    </tr>\n",
       "  </thead>\n",
       "  <tbody>\n",
       "    <tr>\n",
       "      <th>0</th>\n",
       "      <td>2025-07-19 16:00:00+00:00</td>\n",
       "      <td>99.71089</td>\n",
       "      <td>0.28911</td>\n",
       "    </tr>\n",
       "    <tr>\n",
       "      <th>1</th>\n",
       "      <td>2025-07-19 17:00:00+00:00</td>\n",
       "      <td>99.466463</td>\n",
       "      <td>0.533537</td>\n",
       "    </tr>\n",
       "    <tr>\n",
       "      <th>2</th>\n",
       "      <td>2025-07-19 18:00:00+00:00</td>\n",
       "      <td>99.556629</td>\n",
       "      <td>0.443371</td>\n",
       "    </tr>\n",
       "    <tr>\n",
       "      <th>3</th>\n",
       "      <td>2025-07-19 19:00:00+00:00</td>\n",
       "      <td>99.492527</td>\n",
       "      <td>0.507473</td>\n",
       "    </tr>\n",
       "    <tr>\n",
       "      <th>4</th>\n",
       "      <td>2025-07-19 20:00:00+00:00</td>\n",
       "      <td>99.639625</td>\n",
       "      <td>0.360375</td>\n",
       "    </tr>\n",
       "    <tr>\n",
       "      <th>...</th>\n",
       "      <td>...</td>\n",
       "      <td>...</td>\n",
       "      <td>...</td>\n",
       "    </tr>\n",
       "    <tr>\n",
       "      <th>668</th>\n",
       "      <td>2025-08-16 12:00:00+00:00</td>\n",
       "      <td>99.28446</td>\n",
       "      <td>0.71554</td>\n",
       "    </tr>\n",
       "    <tr>\n",
       "      <th>669</th>\n",
       "      <td>2025-08-16 13:00:00+00:00</td>\n",
       "      <td>99.170567</td>\n",
       "      <td>0.829433</td>\n",
       "    </tr>\n",
       "    <tr>\n",
       "      <th>670</th>\n",
       "      <td>2025-08-16 14:00:00+00:00</td>\n",
       "      <td>99.854295</td>\n",
       "      <td>0.145705</td>\n",
       "    </tr>\n",
       "    <tr>\n",
       "      <th>671</th>\n",
       "      <td>2025-08-16 15:00:00+00:00</td>\n",
       "      <td>99.669227</td>\n",
       "      <td>0.330773</td>\n",
       "    </tr>\n",
       "    <tr>\n",
       "      <th>672</th>\n",
       "      <td>2025-08-16 16:00:00+00:00</td>\n",
       "      <td>99.401786</td>\n",
       "      <td>0.598214</td>\n",
       "    </tr>\n",
       "  </tbody>\n",
       "</table>\n",
       "<p>673 rows × 3 columns</p>\n",
       "</div>"
      ],
      "text/plain": [
       "                   timestamps       IPv4      IPv6\n",
       "0   2025-07-19 16:00:00+00:00   99.71089   0.28911\n",
       "1   2025-07-19 17:00:00+00:00  99.466463  0.533537\n",
       "2   2025-07-19 18:00:00+00:00  99.556629  0.443371\n",
       "3   2025-07-19 19:00:00+00:00  99.492527  0.507473\n",
       "4   2025-07-19 20:00:00+00:00  99.639625  0.360375\n",
       "..                        ...        ...       ...\n",
       "668 2025-08-16 12:00:00+00:00   99.28446   0.71554\n",
       "669 2025-08-16 13:00:00+00:00  99.170567  0.829433\n",
       "670 2025-08-16 14:00:00+00:00  99.854295  0.145705\n",
       "671 2025-08-16 15:00:00+00:00  99.669227  0.330773\n",
       "672 2025-08-16 16:00:00+00:00  99.401786  0.598214\n",
       "\n",
       "[673 rows x 3 columns]"
      ]
     },
     "execution_count": 34,
     "metadata": {},
     "output_type": "execute_result"
    }
   ],
   "source": [
    "for df in [df_vector, df_protocol, df_bitrate, df_duration, df_ip]:\n",
    "    df['timestamps'] = pd.to_datetime(df['timestamps'], utc=True)\n",
    "df_ip"
   ]
  },
  {
   "cell_type": "code",
   "execution_count": 7,
   "id": "26a4dbfa-a85d-4c42-b99f-3668cb0d9159",
   "metadata": {},
   "outputs": [],
   "source": [
    "# data=vector_data[\"serie_0\"]\n",
    "# df=pd.DataFrame(data)\n",
    "# # df_vector=df.melt(\n",
    "# #     id_vars=[\"timestamps\"],\n",
    "# #     var_name=\"attack_type\",\n",
    "# #     value_name=\"value\"\n",
    "# # )"
   ]
  },
  {
   "cell_type": "code",
   "execution_count": null,
   "id": "492a3453-5b86-4369-aa0d-586043cf58ea",
   "metadata": {},
   "outputs": [],
   "source": []
  },
  {
   "cell_type": "code",
   "execution_count": 8,
   "id": "ac692732-0f00-4ac7-8560-747b81f73ed3",
   "metadata": {},
   "outputs": [],
   "source": [
    "# data=ip_data[\"serie_0\"]\n",
    "# df=pd.DataFrame(data)\n",
    "# df_ip=df.melt(\n",
    "#     id_vars=[\"timestamps\"],\n",
    "#     var_name=\"version\"\n",
    "# )"
   ]
  },
  {
   "cell_type": "code",
   "execution_count": null,
   "id": "cb5aed36-a53f-418a-bc92-94a4d8e10f99",
   "metadata": {},
   "outputs": [],
   "source": []
  },
  {
   "cell_type": "code",
   "execution_count": 9,
   "id": "de3e184c-05a1-4f44-b15b-c6eb69e89e97",
   "metadata": {},
   "outputs": [],
   "source": [
    "# data=protocol_data[\"serie_0\"]\n",
    "# df=pd.DataFrame(data)\n",
    "# df_protocol=df.melt(\n",
    "#     id_vars=[\"timestamps\"],\n",
    "#     var_name=\"protocol\"\n",
    "# )"
   ]
  },
  {
   "cell_type": "code",
   "execution_count": null,
   "id": "0c1a501d-a7c5-4ef7-9fcc-a6b780414ed6",
   "metadata": {},
   "outputs": [],
   "source": []
  },
  {
   "cell_type": "code",
   "execution_count": 10,
   "id": "00cac270-d649-44a3-94f7-d9f742d25b7c",
   "metadata": {},
   "outputs": [],
   "source": [
    "# data=bitrate_data[\"serie_0\"]\n",
    "# df=pd.DataFrame(data)\n",
    "# df_bitrate=df.melt(\n",
    "#     id_vars=[\"timestamps\"],\n",
    "#     var_name=\"bitrate\"\n",
    "# )\n"
   ]
  },
  {
   "cell_type": "code",
   "execution_count": null,
   "id": "bd259512-7a34-48ed-a113-5b9d2859dc3d",
   "metadata": {},
   "outputs": [],
   "source": []
  },
  {
   "cell_type": "code",
   "execution_count": 11,
   "id": "a76b604c-708f-4da4-acd7-dec03b8c14d2",
   "metadata": {},
   "outputs": [],
   "source": [
    "# data=duration_data[\"serie_0\"]\n",
    "# df=pd.DataFrame(data)\n",
    "# df_duration=df.melt(\n",
    "#     id_vars=[\"timestamps\"],\n",
    "#     var_name=\"duration\"\n",
    "# )\n"
   ]
  },
  {
   "cell_type": "code",
   "execution_count": 12,
   "id": "d6134606-f029-4dc3-9ea5-c45962cbabbd",
   "metadata": {},
   "outputs": [],
   "source": [
    "# df_duration\n",
    "# df_bitrate\n",
    "# df_protocol\n",
    "# # df_ip\n",
    "# # df_vector"
   ]
  },
  {
   "cell_type": "code",
   "execution_count": 13,
   "id": "6eedaead-52df-49a9-a9c8-2b2a163341c5",
   "metadata": {},
   "outputs": [],
   "source": [
    "# for df in [df_duration, df_bitrate, df_protocol, df_ip, df_vector]:\n",
    "#     df['timestamps'] = pd.to_datetime(df['timestamps'], errors='coerce')"
   ]
  },
  {
   "cell_type": "code",
   "execution_count": 14,
   "id": "4e00a71a-5584-43f1-8833-5ec6ffe2e72b",
   "metadata": {},
   "outputs": [],
   "source": [
    "# for df in [df_vector, df_protocol, df_bitrate, df_duration, df_ip]:\n",
    "#     df['timestamps'] = pd.to_datetime(df['timestamps'], utc=True)"
   ]
  },
  {
   "cell_type": "code",
   "execution_count": null,
   "id": "0771354b-d116-4e3f-b075-c9c863955f06",
   "metadata": {},
   "outputs": [],
   "source": []
  },
  {
   "cell_type": "code",
   "execution_count": 15,
   "id": "3445a76d-dfc5-4fbd-827f-9678fcb2e52a",
   "metadata": {},
   "outputs": [],
   "source": [
    "# df_vector_hourly = df_vector.groupby(['attack_type', pd.Grouper(key='timestamps', freq='1H')])['value'].agg(['sum', 'mean', 'max']).reset_index()"
   ]
  },
  {
   "cell_type": "code",
   "execution_count": 16,
   "id": "bcbb50a6-e7e5-4dea-a516-075101f8cb31",
   "metadata": {},
   "outputs": [],
   "source": [
    "# df"
   ]
  },
  {
   "cell_type": "code",
   "execution_count": null,
   "id": "4485f864-d0c9-4443-90d6-68b20c255056",
   "metadata": {},
   "outputs": [],
   "source": []
  }
 ],
 "metadata": {
  "kernelspec": {
   "display_name": "Python 3 (ipykernel)",
   "language": "python",
   "name": "python3"
  },
  "language_info": {
   "codemirror_mode": {
    "name": "ipython",
    "version": 3
   },
   "file_extension": ".py",
   "mimetype": "text/x-python",
   "name": "python",
   "nbconvert_exporter": "python",
   "pygments_lexer": "ipython3",
   "version": "3.13.5"
  }
 },
 "nbformat": 4,
 "nbformat_minor": 5
}
